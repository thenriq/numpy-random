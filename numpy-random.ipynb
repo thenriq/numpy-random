{
 "cells": [
  {
   "cell_type": "markdown",
   "metadata": {},
   "source": [
    "# The NUMPY.RANDOM package"
   ]
  },
  {
   "cell_type": "markdown",
   "metadata": {},
   "source": [
    "# About this project:\n",
    "\n",
    "In this project, we will talk about the Numpy.random package. It will explain the use of this package, covering the following points:\n",
    "1. Explain the overall purpose of the package. \n",
    "2. Explain the use of the “Simple random data” and “Permutations” functions. \n",
    "3. Explain the use and purpose of at least five “Distributions” functions. \n",
    "4. Explain the use of seeds in generating pseudorandom numbers.\n"
   ]
  },
  {
   "cell_type": "markdown",
   "metadata": {},
   "source": [
    "### What is NumPy?\n",
    "**NumPy** is the fundamental package for scientific computing in Python. It is a Python library that provides a multidimensional array object, various derived objects (such as masked arrays and matrices), and an assortment of routines for fast operations on arrays, including mathematical, logical, shape manipulation, sorting, selecting, I/O, discrete Fourier transforms, basic linear algebra, basic statistical operations, random simulation and much more."
   ]
  },
  {
   "cell_type": "markdown",
   "metadata": {},
   "source": [
    "## 1. Overall purpose of the package:"
   ]
  },
  {
   "cell_type": "markdown",
   "metadata": {},
   "source": [
    "The NUMPY.RANDOM PACKAGE is one of the function for doing random sampling in numpy, a suite of functions based on pseudorandom number generation. It returns an array of specified shape and fills it with random floats in the half-open interval.\n",
    "\n",
    "RANDOM means something that cannot be predicted logically.\n",
    "\n",
    "**Numpy** has several advantages over Python lists, such as:\n",
    "- **Memory Usage**: NumPy arrays are fixed-length arrays, while python has lists that are extensible;\n",
    "- **Speed**: NumPy uses under-the-hood optimizations such as transposing and chunked multiplications; the operations are vectorized so that the looped operations are performed much faster\n",
    "- **Filtering**: A pretty handy trick that can be used to separate data based on some condition or the label, which is very useful in data analytics and machine learning. Source: [Advantages of using NumPy over Python Lists](https://medium.com/swlh/why-use-numpy-d06c573fbcda)"
   ]
  },
  {
   "cell_type": "code",
   "execution_count": 4,
   "metadata": {},
   "outputs": [],
   "source": [
    "# Importing NUMPY library:\n",
    "import numpy as np"
   ]
  },
  {
   "cell_type": "markdown",
   "metadata": {},
   "source": [
    "### 1.1: Array Types\n",
    "\n",
    "There are 2 types of array: **SINGLE DIMENSIONAL** and **MULTI DIMENSIONAL**"
   ]
  },
  {
   "cell_type": "markdown",
   "metadata": {},
   "source": [
    "**SINGLE DIMENSIONAL:**"
   ]
  },
  {
   "cell_type": "code",
   "execution_count": 3,
   "metadata": {},
   "outputs": [
    {
     "name": "stdout",
     "output_type": "stream",
     "text": [
      "[1 2 3 4]\n"
     ]
    }
   ],
   "source": [
    "single_array = np.array([1, 2, 3, 4])\n",
    "print(single_array)"
   ]
  },
  {
   "cell_type": "markdown",
   "metadata": {},
   "source": [
    "**MULTI DIMENSIONAL:**"
   ]
  },
  {
   "cell_type": "code",
   "execution_count": 6,
   "metadata": {},
   "outputs": [
    {
     "name": "stdout",
     "output_type": "stream",
     "text": [
      "[[ 1  2  3  4]\n",
      " [ 2  4  6  8]\n",
      " [ 3  6  9 12]]\n"
     ]
    }
   ],
   "source": [
    "multi_array = np.array([(1, 2, 3, 4), (2, 4, 6, 8), (3, 6, 9, 12)])\n",
    "print(multi_array)"
   ]
  },
  {
   "cell_type": "markdown",
   "metadata": {},
   "source": [
    "## 2. Simple random data and Permutations functions"
   ]
  },
  {
   "cell_type": "markdown",
   "metadata": {},
   "source": [
    "### 2.1: Simple Random data\n",
    "Simple Random Sampling is a technique in which every item in the population has an equal possibility of being selected within the totality of the sample. This completely depends on goes the concepts of probability and therefore known as the method of chances.\n",
    "\n",
    "Some of advantages of using Simple Random:\n",
    "- Reduces bias against other sampling methods \n",
    "- Pick smaller sample size from the original\n",
    "- No size restrictions for sample results\n",
    "\n",
    "In order to use it, we will need to import the random funcion:"
   ]
  },
  {
   "cell_type": "code",
   "execution_count": 2,
   "metadata": {},
   "outputs": [],
   "source": [
    "# Importing random function\n",
    "import random as rd"
   ]
  },
  {
   "cell_type": "markdown",
   "metadata": {},
   "source": [
    "#### Testing the `random.sample()` function:\n",
    "This function is used to select multiple items from a list without repeating"
   ]
  },
  {
   "cell_type": "code",
   "execution_count": 5,
   "metadata": {},
   "outputs": [
    {
     "name": "stdout",
     "output_type": "stream",
     "text": [
      "The 3 sorted numbers are:  [5, 13, 14]\n",
      "\n",
      "The lottery result is: [19, 51, 33, 42, 14, 55]\n",
      "\n",
      "The 3 sorted names are:  ['Aine', 'Thomasz', 'Aoife']\n"
     ]
    }
   ],
   "source": [
    "#sorting 3 random numbers for a list:\n",
    "list = 1, 2, 5, 9, 10, 13, 14\n",
    "print(\"The 3 sorted numbers are: \",rd.sample(list, 3)) \n",
    "print(\"\")\n",
    "\n",
    "#simulating lottery numbers sorting (creating list with \"arange\" function):\n",
    "list1 = np.arange(1, 61).tolist()\n",
    "print(\"The lottery result is:\",rd.sample(list1,6))\n",
    "print(\"\")\n",
    "\n",
    "#sorting 3 names from a list\n",
    "names = [\"Peter\", \"Mary\", \"James\", \"Suzan\", \"Thomasz\", \"Aoife\", \"Aine\"]\n",
    "samplelist3 = rd.sample(names, k=3)\n",
    "print(\"The 3 sorted names are: \",samplelist3)"
   ]
  },
  {
   "cell_type": "markdown",
   "metadata": {},
   "source": [
    "#### Testing the random.choice() function:\n",
    "This function returns a random element from a non-empty sequence. It can be used to select a random item from the available data within the list"
   ]
  },
  {
   "cell_type": "code",
   "execution_count": 57,
   "metadata": {},
   "outputs": [
    {
     "name": "stdout",
     "output_type": "stream",
     "text": [
      "The chosen fruit is pineapple\n"
     ]
    }
   ],
   "source": [
    "# Choosing a random item from a list:\n",
    "\n",
    "itemlist=['watermelon', 'pineapple', 'orange', 'apple', 'banana']\n",
    "print(\"The chosen fruit is\", rd.choice(itemlist))"
   ]
  },
  {
   "cell_type": "markdown",
   "metadata": {},
   "source": [
    "#### Testing the random.randint() function:\n",
    "This function returns a random integer within a range. Only integer values are accepted in this function. Other values other than integer will raise a `ValueError: non-integer arg 1` error"
   ]
  },
  {
   "cell_type": "code",
   "execution_count": 60,
   "metadata": {},
   "outputs": [
    {
     "name": "stdout",
     "output_type": "stream",
     "text": [
      "Random integer: 31\n",
      "Random integer: 211\n"
     ]
    }
   ],
   "source": [
    "randomNum1 = rd.randint(0,50)\n",
    "print(\"Random integer:\", randomNum1)\n",
    "\n",
    "randomNum2 = rd.randint(150,500)\n",
    "print(\"Random integer:\", randomNum2)\n"
   ]
  },
  {
   "cell_type": "markdown",
   "metadata": {},
   "source": [
    "### 2.2: Permutations functions"
   ]
  },
  {
   "cell_type": "markdown",
   "metadata": {},
   "source": [
    "In mathematics, a permutation of a set is, loosely speaking, an arrangement of its members into a sequence or linear order, or if the set is already ordered, a rearrangement of its elements. The word \"permutation\" also refers to the act or process of changing the linear order of an ordered set. Source: [Wikipedia - Permutation](https://en.wikipedia.org/wiki/Permutation)"
   ]
  },
  {
   "cell_type": "markdown",
   "metadata": {},
   "source": [
    "#### Permutation:"
   ]
  },
  {
   "cell_type": "code",
   "execution_count": 33,
   "metadata": {},
   "outputs": [
    {
     "name": "stdout",
     "output_type": "stream",
     "text": [
      "A B C\n",
      "A C B\n",
      "B A C\n",
      "B C A\n",
      "C A B\n",
      "C B A\n"
     ]
    }
   ],
   "source": [
    "# Importing library permutations\n",
    "from itertools import permutations as pmt\n",
    "\n",
    "# Generation permutation for string [A, B, C]\n",
    "\n",
    "values = ['A', 'B', 'C']\n",
    "permut = pmt(values)\n",
    "for i in permut:\n",
    "    print(*i)"
   ]
  },
  {
   "cell_type": "markdown",
   "metadata": {},
   "source": [
    "**Permutation with certain number of elements**\n"
   ]
  },
  {
   "cell_type": "code",
   "execution_count": 39,
   "metadata": {},
   "outputs": [
    {
     "name": "stdout",
     "output_type": "stream",
     "text": [
      "A B\n",
      "A C\n",
      "B A\n",
      "B C\n",
      "C A\n",
      "C B\n"
     ]
    }
   ],
   "source": [
    "values = ['A', 'B', 'C']\n",
    "permut = pmt(values, 2)\n",
    "for i in permut:\n",
    "    print(*i)"
   ]
  },
  {
   "cell_type": "markdown",
   "metadata": {},
   "source": [
    "**Shuffle:**"
   ]
  },
  {
   "cell_type": "code",
   "execution_count": 49,
   "metadata": {},
   "outputs": [
    {
     "name": "stdout",
     "output_type": "stream",
     "text": [
      "Original number list: [2, 3, 5, 7, 11, 13, 17, 19, 23, 29, 31, 37]\n",
      "Shuffled number list: [2, 31, 29, 3, 5, 11, 13, 19, 37, 17, 23, 7]\n",
      "\n",
      "Original character list ['a', 'b', 'c', 'd', 'e', 'f', 'g']\n",
      "Shuffled characters list: ['f', 'd', 'g', 'e', 'b', 'a', 'c']\n"
     ]
    }
   ],
   "source": [
    "# Testing the shuffle functions\n",
    "\n",
    "number_list = [2, 3, 5, 7, 11, 13, 17, 19, 23, 29, 31, 37]\n",
    "print(\"Original number list:\", number_list)\n",
    "\n",
    "rd.shuffle(number_list)\n",
    "print(\"Shuffled number list:\", number_list)\n",
    "print(\"\")\n",
    "\n",
    "characters_list = ['a', 'b', 'c', 'd', 'e', 'f', 'g']\n",
    "print(\"Original character list\", characters_list)\n",
    "\n",
    "rd.shuffle(characters_list)\n",
    "print(\"Shuffled characters list:\", characters_list)"
   ]
  },
  {
   "cell_type": "markdown",
   "metadata": {},
   "source": [
    "## 3. Explain the use and purpose of at least five “Distributions” functions."
   ]
  },
  {
   "cell_type": "markdown",
   "metadata": {},
   "source": [
    "A probability distribution is a statistical function that describes all the possible values and likelihoods that a value or set of values can take within a given range, being bounded between the minimum and maximum possible values\n",
    "\n",
    "There are 2 distribution types: *Discrete* and *Continuous*\n",
    "\n",
    "**Discrete Distribution**: The values are countable, finite, non-negative integers;\n",
    "\n",
    "**Continuous Distribution**: The set of possible values can be infinite and uncontable. Source:[Continuous and discrete probability distributions](https://support.minitab.com/en-us/minitab-express/1/help-and-how-to/basic-statistics/probability-distributions/supporting-topics/basics/continuous-and-discrete-probability-distributions/#:~:text=a%20discrete%20distribution%3F-,What%20is%20a%20continuous%20distribution%3F,that%20is%20infinite%20and%20uncountable.)\n"
   ]
  },
  {
   "cell_type": "markdown",
   "metadata": {},
   "source": [
    "There are many useful functions available in Numpy and 5 of them will be described in this project:\n",
    "- Normal\n",
    "- Uniform\n",
    "- Gamma\n",
    "- Lognormal\n",
    "- Poisson"
   ]
  },
  {
   "cell_type": "markdown",
   "metadata": {},
   "source": [
    "#### Normal:\n",
    "A Normal Distribution, also called *GAUSSIAN* distribution, is a continuous probability distribution. It is most of times reffered to a bell curve"
   ]
  },
  {
   "cell_type": "code",
   "execution_count": 13,
   "metadata": {},
   "outputs": [
    {
     "data": {
      "image/png": "[encoded data removed]",
      "text/plain": [
       "<Figure size 432x288 with 1 Axes>"
      ]
     },
     "metadata": {
      "needs_background": "light"
     },
     "output_type": "display_data"
    }
   ],
   "source": [
    "import matplotlib.pyplot as plt\n",
    "\n",
    "mu, sigma = 0, 0.1 # mean and standard deviation\n",
    "s = np.random.default_rng().normal(mu, sigma, 1000)\n",
    "abs(mu - np.mean(s))\n",
    "abs(sigma - np.std(s, ddof=1))\n",
    "\n",
    "count, bins, ignored = plt.hist(s, 30, density=True)\n",
    "plt.plot(bins, 1/(sigma * np.sqrt(2 * np.pi)) *\n",
    "               np.exp( - (bins - mu)**2 / (2 * sigma**2) ),\n",
    "         linewidth=2, color='r')\n",
    "plt.show()"
   ]
  },
  {
   "cell_type": "code",
   "execution_count": null,
   "metadata": {},
   "outputs": [],
   "source": []
  }
 ],
 "metadata": {
  "kernelspec": {
   "display_name": "Python 3",
   "language": "python",
   "name": "python3"
  },
  "language_info": {
   "codemirror_mode": {
    "name": "ipython",
    "version": 3
   },
   "file_extension": ".py",
   "mimetype": "text/x-python",
   "name": "python",
   "nbconvert_exporter": "python",
   "pygments_lexer": "ipython3",
   "version": "3.8.3"
  }
 },
 "nbformat": 4,
 "nbformat_minor": 4
}
