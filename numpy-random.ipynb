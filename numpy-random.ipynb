{
 "cells": [
  {
   "cell_type": "markdown",
   "metadata": {},
   "source": [
    "# The NUMPY.RANDOM package"
   ]
  },
  {
   "cell_type": "markdown",
   "metadata": {},
   "source": [
    "# About this project:\n",
    "\n",
    "In this project, we will talk about the Numpy.random package. It will explain the use of this package, covering the following points:\n",
    "1. Explain the overall purpose of the package. \n",
    "2. Explain the use of the “Simple random data” and “Permutations” functions. \n",
    "3. Explain the use and purpose of at least five “Distributions” functions. \n",
    "4. Explain the use of seeds in generating pseudorandom numbers.\n"
   ]
  },
  {
   "cell_type": "markdown",
   "metadata": {},
   "source": [
    "### What is NumPy?\n",
    "**NumPy** is the fundamental package for scientific computing in Python. It is a Python library that provides a multidimensional array object, various derived objects (such as masked arrays and matrices), and an assortment of routines for fast operations on arrays, including mathematical, logical, shape manipulation, sorting, selecting, I/O, discrete Fourier transforms, basic linear algebra, basic statistical operations, random simulation and much more."
   ]
  },
  {
   "cell_type": "markdown",
   "metadata": {},
   "source": [
    "## 1. Overall purpose of the package:"
   ]
  },
  {
   "cell_type": "markdown",
   "metadata": {},
   "source": [
    "The NUMPY.RANDOM PACKAGE is one of the function for doing random sampling in numpy, a suite of functions based on pseudorandom number generation. It returns an array of specified shape and fills it with random floats in the half-open interval.\n",
    "\n",
    "RANDOM means something that cannot be predicted logically.\n",
    "\n",
    "**Numpy** has several advantages over Python lists, such as:\n",
    "- **Memory Usage**: NumPy arrays are fixed-length arrays, while python has lists that are extensible;\n",
    "- **Speed**: NumPy uses under-the-hood optimizations such as transposing and chunked multiplications; the operations are vectorized so that the looped operations are performed much faster\n",
    "- **Filtering**: A pretty handy trick that can be used to separate data based on some condition or the label, which is very useful in data analytics and machine learning. Source: [Advantages of using NumPy over Python Lists](https://medium.com/swlh/why-use-numpy-d06c573fbcda)"
   ]
  },
  {
   "cell_type": "code",
   "execution_count": 2,
   "metadata": {},
   "outputs": [],
   "source": [
    "# Importing NUMPY library:\n",
    "import numpy as np"
   ]
  },
  {
   "cell_type": "markdown",
   "metadata": {},
   "source": [
    "### 1.1: Array Types\n",
    "\n",
    "There are 2 types of array: **SINGLE DIMENSIONAL** and **MULTI DIMENSIONAL**"
   ]
  },
  {
   "cell_type": "markdown",
   "metadata": {},
   "source": [
    "**SINGLE DIMENSIONAL:**"
   ]
  },
  {
   "cell_type": "code",
   "execution_count": 3,
   "metadata": {},
   "outputs": [
    {
     "name": "stdout",
     "output_type": "stream",
     "text": [
      "[1 2 3 4]\n"
     ]
    }
   ],
   "source": [
    "single_array = np.array([1, 2, 3, 4])\n",
    "print(single_array)"
   ]
  },
  {
   "cell_type": "markdown",
   "metadata": {},
   "source": [
    "**MULTI DIMENSIONAL:**"
   ]
  },
  {
   "cell_type": "code",
   "execution_count": 6,
   "metadata": {},
   "outputs": [
    {
     "name": "stdout",
     "output_type": "stream",
     "text": [
      "[[ 1  2  3  4]\n",
      " [ 2  4  6  8]\n",
      " [ 3  6  9 12]]\n"
     ]
    }
   ],
   "source": [
    "multi_array = np.array([(1, 2, 3, 4), (2, 4, 6, 8), (3, 6, 9, 12)])\n",
    "print(multi_array)"
   ]
  },
  {
   "cell_type": "markdown",
   "metadata": {},
   "source": [
    "## 2. Simple random data and Permutations functions"
   ]
  },
  {
   "cell_type": "markdown",
   "metadata": {},
   "source": [
    "### 2.1: Simple Random data\n",
    "Simple Random Sampling is a technique in which every item in the population has an equal possibility of being selected within the totality of the sample. This completely depends on goes the concepts of probability and therefore known as the method of chances.\n",
    "\n",
    "Some of advantages of using Simple Random:\n",
    "- Reduces bias against other sampling methods \n",
    "- Pick smaller sample size from the original\n",
    "- No size restrictions for sample results\n",
    "\n",
    "In order to use it, we will need to import the random funcion:"
   ]
  },
  {
   "cell_type": "code",
   "execution_count": 12,
   "metadata": {},
   "outputs": [],
   "source": [
    "# Importing random function\n",
    "import random as rd"
   ]
  },
  {
   "cell_type": "markdown",
   "metadata": {},
   "source": [
    "*Testing the `random.sample()` function:*"
   ]
  },
  {
   "cell_type": "code",
   "execution_count": 33,
   "metadata": {},
   "outputs": [
    {
     "name": "stdout",
     "output_type": "stream",
     "text": [
      "The 3 sorted numbers are:  [13, 5, 9]\n",
      "\n",
      "The lottery result is: [24, 50, 43, 59, 32, 49]\n"
     ]
    }
   ],
   "source": [
    "#sorting 3 random numbers for a list:\n",
    "list = 1, 2, 5, 9, 10, 13, 14\n",
    "print(\"The 3 sorted numbers are: \",rd.sample(list, 3)) \n",
    "print(\"\")\n",
    "\n",
    "#simulating lottery numbers sorting (creating list with \"arange\" function):\n",
    "list1 = np.arange(1, 61).tolist()\n",
    "print(\"The lottery result is:\",rd.sample(list1,6))"
   ]
  },
  {
   "cell_type": "code",
   "execution_count": null,
   "metadata": {},
   "outputs": [],
   "source": []
  }
 ],
 "metadata": {
  "kernelspec": {
   "display_name": "Python 3",
   "language": "python",
   "name": "python3"
  },
  "language_info": {
   "codemirror_mode": {
    "name": "ipython",
    "version": 3
   },
   "file_extension": ".py",
   "mimetype": "text/x-python",
   "name": "python",
   "nbconvert_exporter": "python",
   "pygments_lexer": "ipython3",
   "version": "3.8.3"
  }
 },
 "nbformat": 4,
 "nbformat_minor": 4
}
